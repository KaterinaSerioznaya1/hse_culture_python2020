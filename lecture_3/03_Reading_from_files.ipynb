{
 "cells": [
  {
   "cell_type": "markdown",
   "metadata": {},
   "source": [
    "### Чтение файлов"
   ]
  },
  {
   "cell_type": "markdown",
   "metadata": {},
   "source": [
    "#### Мы достаточно много говорили о переменных, и что они могут быть \"изначально разными\", и др, но на практике этого не видели. Пришла пора."
   ]
  },
  {
   "cell_type": "markdown",
   "metadata": {},
   "source": [
    "В папке с программой лежит файл с входными данными. Прочитаем этот файл как \"список строк\""
   ]
  },
  {
   "cell_type": "code",
   "execution_count": null,
   "metadata": {},
   "outputs": [],
   "source": [
    "with open('top50.csv', 'r', encoding=\"utf-8\") as f:\n",
    "    for line in f:\n",
    "        print(line)"
   ]
  },
  {
   "cell_type": "markdown",
   "metadata": {},
   "source": [
    "Разберем по порядку. Функция `open` создает буфер обмена, через который данные могут передаваься с физического носителя в память программы. Данная функция возвращает объект для работы с файлом. Первый параметр -- имя файла, второй -- режим работы (`'r'` -- чтение, `'w'` -- запись, `'a'` -- добавление, а так же `'rb'`, `'wb'`, `'ab'` и др.)\n",
    "\n",
    "У этого объекта есть ряд встроенных функций для получения данных. Функция ``readline`` читает по одной строке из оставшихся."
   ]
  },
  {
   "cell_type": "code",
   "execution_count": null,
   "metadata": {},
   "outputs": [],
   "source": [
    "with open('top50.csv', 'r', encoding=\"utf-8\") as f:\n",
    "    print(f\"The first string in file is:\\n\\n{f.readline()}\")\n",
    "    print()\n",
    "    print(f\"The second string in file is:\\n\\n{f.readline()}\")"
   ]
  },
  {
   "cell_type": "markdown",
   "metadata": {},
   "source": [
    "Функция ``read`` позволяет читать весь файл сразу, или информацию посимвольно."
   ]
  },
  {
   "cell_type": "code",
   "execution_count": null,
   "metadata": {},
   "outputs": [],
   "source": [
    "with open('top50.csv', 'r', encoding=\"utf-8\") as f:\n",
    "    print(f.read())"
   ]
  },
  {
   "cell_type": "markdown",
   "metadata": {},
   "source": [
    "**Задание:** прочитать файл ``top50.csv``, разделить его по переходам на новую строку, каждую строку разделить по запятой. Должен получиться список списков."
   ]
  },
  {
   "cell_type": "code",
   "execution_count": null,
   "metadata": {},
   "outputs": [],
   "source": [
    "result = []\n",
    "# your code here"
   ]
  },
  {
   "cell_type": "markdown",
   "metadata": {},
   "source": [
    "Функция *write* записывает объект в файл."
   ]
  },
  {
   "cell_type": "code",
   "execution_count": null,
   "metadata": {},
   "outputs": [],
   "source": [
    "with open(\"top50.tsv\", 'w', encoding=\"utf-8\") as w:\n",
    "    for song, singer, genre in result:\n",
    "        w.write(f\"{song}\\t{singer}\\t{genre}\\n\")"
   ]
  },
  {
   "cell_type": "markdown",
   "metadata": {},
   "source": [
    "**Задание:** (оно вам очень пригодится) Напишите функцию, которая принимает на вход строку с именем файла и строку с разделителем (по умолчанию запятая), читает файл, делит на строки, делит по разделителю и возращает список списков"
   ]
  },
  {
   "cell_type": "code",
   "execution_count": null,
   "metadata": {},
   "outputs": [],
   "source": [
    "# your code here"
   ]
  }
 ],
 "metadata": {
  "kernelspec": {
   "display_name": "Python 3",
   "language": "python",
   "name": "python3"
  },
  "language_info": {
   "codemirror_mode": {
    "name": "ipython",
    "version": 3
   },
   "file_extension": ".py",
   "mimetype": "text/x-python",
   "name": "python",
   "nbconvert_exporter": "python",
   "pygments_lexer": "ipython3",
   "version": "3.6.6"
  }
 },
 "nbformat": 4,
 "nbformat_minor": 1
}
